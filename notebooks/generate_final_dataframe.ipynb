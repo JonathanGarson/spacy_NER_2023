{
 "cells": [
  {
   "attachments": {},
   "cell_type": "markdown",
   "metadata": {},
   "source": [
    "# Generate the final dataframe, the results of all the models"
   ]
  },
  {
   "attachments": {},
   "cell_type": "markdown",
   "metadata": {},
   "source": [
    "This notebooks will cumulate the results of all the json file and obtain the summary dataframe"
   ]
  },
  {
   "cell_type": "code",
   "execution_count": 98,
   "metadata": {},
   "outputs": [],
   "source": [
    "import json\n",
    "import pandas as pd\n",
    "import re\n",
    "import glob\n",
    "import os"
   ]
  },
  {
   "cell_type": "code",
   "execution_count": 86,
   "metadata": {},
   "outputs": [],
   "source": [
    "with open(r\"../data/processed/predicted_labelled_AG.json\", \"r\", encoding=\"utf-8\") as f:\n",
    "    data = json.load(f)"
   ]
  },
  {
   "cell_type": "code",
   "execution_count": 147,
   "metadata": {},
   "outputs": [
    {
     "name": "stdout",
     "output_type": "stream",
     "text": [
      "{'label': [{'start': 2102, 'end': 2107, 'labels': 'AG', 'text_span': '3,9 %'}]}\n"
     ]
    }
   ],
   "source": [
    "df = pd.DataFrame(data, columns=[\"text\", \"label\"])\n",
    "print(df[\"label\"].iloc[0])"
   ]
  },
  {
   "cell_type": "code",
   "execution_count": 152,
   "metadata": {},
   "outputs": [],
   "source": [
    "def turn_dict_into_list_of_values(df):\n",
    "    all_values = []\n",
    "\n",
    "    for _, row in df.iterrows():\n",
    "        label = row.get(\"label\").get(\"label\")\n",
    "        values = []\n",
    "        \n",
    "        for item in label:\n",
    "            text_span = item.get(\"text_span\")\n",
    "            matches = re.findall(r'(\\d+(?:[\\.,]\\d+)?)\\s*%?', text_span)\n",
    "            \n",
    "            for match in matches:\n",
    "                value = float(match.replace(',', '.').rstrip('%'))  # Remove '%' and convert to float\n",
    "                values.append(value)\n",
    "        \n",
    "        # Append the values for this row to the all_values list\n",
    "        all_values.append(values)\n",
    "\n",
    "    return all_values"
   ]
  },
  {
   "cell_type": "code",
   "execution_count": 89,
   "metadata": {},
   "outputs": [],
   "source": [
    "def filter_values(all_values:list):\n",
    "    filtered_values = []\n",
    "\n",
    "    for values in all_values:\n",
    "        # Use a list comprehension to filter values above 8 and replace 0.0 with None\n",
    "        filtered_row = [value if value <= 8 and value != 0.0 else None for value in values]\n",
    "        filtered_values.append(filtered_row)\n",
    "\n",
    "    return filtered_values"
   ]
  },
  {
   "cell_type": "code",
   "execution_count": 90,
   "metadata": {},
   "outputs": [],
   "source": [
    "def calculate_average(filtered_values:list):\n",
    "    averages = []\n",
    "\n",
    "    for row_values in filtered_values:\n",
    "        # Filter out None values and calculate the average\n",
    "        valid_values = [value for value in row_values if value is not None]\n",
    "        \n",
    "        if valid_values:  # Check if there are valid values to calculate the average\n",
    "            avg = sum(valid_values) / len(valid_values)\n",
    "        else:\n",
    "            avg = None  # No valid values, so set average to None\n",
    "        \n",
    "        averages.append(avg)\n",
    "\n",
    "    return averages"
   ]
  },
  {
   "cell_type": "code",
   "execution_count": 153,
   "metadata": {},
   "outputs": [
    {
     "data": {
      "text/html": [
       "<div>\n",
       "<style scoped>\n",
       "    .dataframe tbody tr th:only-of-type {\n",
       "        vertical-align: middle;\n",
       "    }\n",
       "\n",
       "    .dataframe tbody tr th {\n",
       "        vertical-align: top;\n",
       "    }\n",
       "\n",
       "    .dataframe thead th {\n",
       "        text-align: right;\n",
       "    }\n",
       "</style>\n",
       "<table border=\"1\" class=\"dataframe\">\n",
       "  <thead>\n",
       "    <tr style=\"text-align: right;\">\n",
       "      <th></th>\n",
       "      <th>text</th>\n",
       "      <th>AG</th>\n",
       "    </tr>\n",
       "  </thead>\n",
       "  <tbody>\n",
       "    <tr>\n",
       "      <th>0</th>\n",
       "      <td>l’enveloppe globale d’augmentation des rémunér...</td>\n",
       "      <td>3.9</td>\n",
       "    </tr>\n",
       "    <tr>\n",
       "      <th>1</th>\n",
       "      <td>nous travaillons sur une politique de rémunéra...</td>\n",
       "      <td>4.0</td>\n",
       "    </tr>\n",
       "    <tr>\n",
       "      <th>2</th>\n",
       "      <td>mesure d’augmentation perenne 1.1 - bénéficiai...</td>\n",
       "      <td>NaN</td>\n",
       "    </tr>\n",
       "    <tr>\n",
       "      <th>3</th>\n",
       "      <td>accord. politique salariale : article 1 - augm...</td>\n",
       "      <td>3.5</td>\n",
       "    </tr>\n",
       "    <tr>\n",
       "      <th>4</th>\n",
       "      <td>augmentation collective une augmentation colle...</td>\n",
       "      <td>3.0</td>\n",
       "    </tr>\n",
       "  </tbody>\n",
       "</table>\n",
       "</div>"
      ],
      "text/plain": [
       "                                                text   AG\n",
       "0  l’enveloppe globale d’augmentation des rémunér...  3.9\n",
       "1  nous travaillons sur une politique de rémunéra...  4.0\n",
       "2  mesure d’augmentation perenne 1.1 - bénéficiai...  NaN\n",
       "3  accord. politique salariale : article 1 - augm...  3.5\n",
       "4  augmentation collective une augmentation colle...  3.0"
      ]
     },
     "execution_count": 153,
     "metadata": {},
     "output_type": "execute_result"
    }
   ],
   "source": [
    "def from_predicted_label_to_dataset(json_file, save_to_csv=False, output_file=None):\n",
    "    # Open the json file\n",
    "    with open(json_file, \"r\", encoding=\"utf-8\") as f:\n",
    "        data = json.load(f)\n",
    "\n",
    "    # Extract label name from the json file name\n",
    "    label_name = os.path.basename(json_file).split(\"_\")[2][:-5]\n",
    "\n",
    "    # Create a dataframe from the json file\n",
    "    df = pd.DataFrame(data, columns=[\"text\", \"label\"])\n",
    "\n",
    "    # Turn the label column into a list of values\n",
    "    all_values = turn_dict_into_list_of_values(df)  \n",
    "\n",
    "    # Filter out values above 8 and replace 0.0 with None\n",
    "    if label_name != \"PPVm\":\n",
    "        filtered_values = filter_values(all_values)\n",
    "        # Calculate the average of the values\n",
    "        averages = calculate_average(filtered_values)\n",
    "    else:\n",
    "        averages = calculate_average(all_values)\n",
    "\n",
    "    # Add the averages to the dataframe\n",
    "    df[\"cleanned_label\"] = averages\n",
    "\n",
    "    # Drop the label column and rename the cleanned_label column to label\n",
    "    df = df[['text', 'cleanned_label']].copy()\n",
    "    df = df.rename(columns={'cleanned_label': f'{label_name}'})\n",
    "\n",
    "    # Save the dataframe to a csv file\n",
    "    if save_to_csv:\n",
    "        df.to_csv(output_file, index=False)\n",
    "\n",
    "    return df\n",
    "\n",
    "df = from_predicted_label_to_dataset(r\"../data/processed/predicted_labelled_AG.json\", save_to_csv=True, output_file=r\"../data/intermediate/AG_dataset.csv\")\n",
    "df.head()"
   ]
  },
  {
   "attachments": {},
   "cell_type": "markdown",
   "metadata": {},
   "source": [
    "We iterate over all the predicted json files"
   ]
  },
  {
   "cell_type": "code",
   "execution_count": 154,
   "metadata": {},
   "outputs": [
    {
     "name": "stdout",
     "output_type": "stream",
     "text": [
      "File ../data/processed\\predicted_labelled_AG CAD.json converted to csv\n",
      "File ../data/processed\\predicted_labelled_AG INT.json converted to csv\n",
      "File ../data/processed\\predicted_labelled_AG OUV.json converted to csv\n",
      "File ../data/processed\\predicted_labelled_AG.json converted to csv\n",
      "File ../data/processed\\predicted_labelled_AI CAD.json converted to csv\n",
      "File ../data/processed\\predicted_labelled_AI.json converted to csv\n",
      "File ../data/processed\\predicted_labelled_ATOT.json converted to csv\n",
      "File ../data/processed\\predicted_labelled_CAD.json converted to csv\n",
      "File ../data/processed\\predicted_labelled_INT.json converted to csv\n",
      "File ../data/processed\\predicted_labelled_NCAD.json converted to csv\n",
      "File ../data/processed\\predicted_labelled_OUV.json converted to csv\n",
      "File ../data/processed\\predicted_labelled_PPV.json converted to csv\n",
      "File ../data/processed\\predicted_labelled_PPVm.json converted to csv\n",
      "File ../data/processed\\predicted_labelled_TOUS.json converted to csv\n"
     ]
    }
   ],
   "source": [
    "directory = glob.glob(r\"../data/processed/*.json\")\n",
    "\n",
    "for file in directory:\n",
    "    df = from_predicted_label_to_dataset(file, save_to_csv=True, output_file=file.replace(\"processed\", \"intermediate\").replace(\" \",\"_\").replace(\".json\", \".csv\"))\n",
    "    print(f\"File {file} converted to csv\")"
   ]
  },
  {
   "attachments": {},
   "cell_type": "markdown",
   "metadata": {},
   "source": [
    "Now we merge all the files on their text to obtain the final output"
   ]
  },
  {
   "cell_type": "code",
   "execution_count": 155,
   "metadata": {},
   "outputs": [
    {
     "name": "stdout",
     "output_type": "stream",
     "text": [
      "Reading file: ../data/intermediate\\predicted_labelled_AG.csv\n",
      "Reading file: ../data/intermediate\\predicted_labelled_AI.csv\n",
      "Reading file: ../data/intermediate\\predicted_labelled_ATOT.csv\n",
      "Reading file: ../data/intermediate\\predicted_labelled_PPVm.csv\n"
     ]
    }
   ],
   "source": [
    "def concatenate_csv_files(folder_path: str, save_to_csv=False, output_file=None):\n",
    "    # Initialize an empty DataFrame to store the concatenated data\n",
    "    combined_df = None  # Initialize as None\n",
    "\n",
    "    list_of_labels = ['PPVm', 'AG', 'AI', 'AG OUV', 'AG INT', 'AG CAD', 'AI OUV', 'AI INT', 'AI CAD', 'NOUV AG', 'NCAD AG', 'NOUV AI', 'NCAD AI', 'ATOT',\n",
    "                      'ATOT OUV', 'ATOT INT', 'ATOT CAD']\n",
    "\n",
    "    # Iterate through files in the specified folder\n",
    "    for filename in os.listdir(folder_path):\n",
    "        filename_label = filename[19:-4]\n",
    "\n",
    "        if filename_label in list_of_labels and filename.endswith(\".csv\"):\n",
    "            file_path = os.path.join(folder_path, filename)\n",
    "            print(f'Reading file: {file_path}')\n",
    "\n",
    "            # Read the CSV file into a DataFrame\n",
    "            df = pd.read_csv(file_path)\n",
    "\n",
    "            if combined_df is None:\n",
    "                combined_df = df\n",
    "            else:\n",
    "                # Merge the current DataFrame with the combined DataFrame on the \"text\" column\n",
    "                combined_df = pd.merge(combined_df, df, on=\"text\", how=\"outer\", suffixes=(\"\", f\"_{filename_label}\"))\n",
    "\n",
    "    # Save the DataFrame to a CSV file\n",
    "    if save_to_csv and output_file:\n",
    "        combined_df.to_csv(output_file, index=False)\n",
    "\n",
    "    return combined_df\n",
    "\n",
    "df = concatenate_csv_files(r\"../data/intermediate\", save_to_csv=True, output_file=r\"../data/processed/final_dataset.csv\")"
   ]
  },
  {
   "cell_type": "code",
   "execution_count": 156,
   "metadata": {},
   "outputs": [
    {
     "data": {
      "text/html": [
       "<div>\n",
       "<style scoped>\n",
       "    .dataframe tbody tr th:only-of-type {\n",
       "        vertical-align: middle;\n",
       "    }\n",
       "\n",
       "    .dataframe tbody tr th {\n",
       "        vertical-align: top;\n",
       "    }\n",
       "\n",
       "    .dataframe thead th {\n",
       "        text-align: right;\n",
       "    }\n",
       "</style>\n",
       "<table border=\"1\" class=\"dataframe\">\n",
       "  <thead>\n",
       "    <tr style=\"text-align: right;\">\n",
       "      <th></th>\n",
       "      <th>text</th>\n",
       "      <th>AG</th>\n",
       "      <th>AI</th>\n",
       "      <th>ATOT</th>\n",
       "      <th>PPVm</th>\n",
       "    </tr>\n",
       "  </thead>\n",
       "  <tbody>\n",
       "    <tr>\n",
       "      <th>0</th>\n",
       "      <td>l’enveloppe globale d’augmentation des rémunér...</td>\n",
       "      <td>3.9</td>\n",
       "      <td>NaN</td>\n",
       "      <td>NaN</td>\n",
       "      <td>NaN</td>\n",
       "    </tr>\n",
       "    <tr>\n",
       "      <th>1</th>\n",
       "      <td>nous travaillons sur une politique de rémunéra...</td>\n",
       "      <td>4.0</td>\n",
       "      <td>NaN</td>\n",
       "      <td>NaN</td>\n",
       "      <td>500.0</td>\n",
       "    </tr>\n",
       "    <tr>\n",
       "      <th>2</th>\n",
       "      <td>mesure d’augmentation perenne 1.1 - bénéficiai...</td>\n",
       "      <td>NaN</td>\n",
       "      <td>NaN</td>\n",
       "      <td>NaN</td>\n",
       "      <td>NaN</td>\n",
       "    </tr>\n",
       "    <tr>\n",
       "      <th>3</th>\n",
       "      <td>accord. politique salariale : article 1 - augm...</td>\n",
       "      <td>3.5</td>\n",
       "      <td>3.5</td>\n",
       "      <td>NaN</td>\n",
       "      <td>3.0</td>\n",
       "    </tr>\n",
       "    <tr>\n",
       "      <th>4</th>\n",
       "      <td>augmentation collective une augmentation colle...</td>\n",
       "      <td>3.0</td>\n",
       "      <td>3.0</td>\n",
       "      <td>NaN</td>\n",
       "      <td>NaN</td>\n",
       "    </tr>\n",
       "    <tr>\n",
       "      <th>...</th>\n",
       "      <td>...</td>\n",
       "      <td>...</td>\n",
       "      <td>...</td>\n",
       "      <td>...</td>\n",
       "      <td>...</td>\n",
       "    </tr>\n",
       "    <tr>\n",
       "      <th>270</th>\n",
       "      <td>accord de negociation annuelle obligatoire 202...</td>\n",
       "      <td>NaN</td>\n",
       "      <td>NaN</td>\n",
       "      <td>NaN</td>\n",
       "      <td>270.0</td>\n",
       "    </tr>\n",
       "    <tr>\n",
       "      <th>271</th>\n",
       "      <td>proces verbal d’accord négociations annuelles ...</td>\n",
       "      <td>NaN</td>\n",
       "      <td>NaN</td>\n",
       "      <td>NaN</td>\n",
       "      <td>600.0</td>\n",
       "    </tr>\n",
       "    <tr>\n",
       "      <th>272</th>\n",
       "      <td>accord sur les salaires effectifs et avantages...</td>\n",
       "      <td>NaN</td>\n",
       "      <td>NaN</td>\n",
       "      <td>NaN</td>\n",
       "      <td>400.0</td>\n",
       "    </tr>\n",
       "    <tr>\n",
       "      <th>273</th>\n",
       "      <td>entre maisons du monde france sas. article 2 –...</td>\n",
       "      <td>NaN</td>\n",
       "      <td>NaN</td>\n",
       "      <td>NaN</td>\n",
       "      <td>400.0</td>\n",
       "    </tr>\n",
       "    <tr>\n",
       "      <th>274</th>\n",
       "      <td>entre  l’ues kiabi, représentée par, directeur...</td>\n",
       "      <td>NaN</td>\n",
       "      <td>NaN</td>\n",
       "      <td>NaN</td>\n",
       "      <td>100.0</td>\n",
       "    </tr>\n",
       "  </tbody>\n",
       "</table>\n",
       "<p>275 rows × 5 columns</p>\n",
       "</div>"
      ],
      "text/plain": [
       "                                                  text   AG   AI  ATOT   PPVm\n",
       "0    l’enveloppe globale d’augmentation des rémunér...  3.9  NaN   NaN    NaN\n",
       "1    nous travaillons sur une politique de rémunéra...  4.0  NaN   NaN  500.0\n",
       "2    mesure d’augmentation perenne 1.1 - bénéficiai...  NaN  NaN   NaN    NaN\n",
       "3    accord. politique salariale : article 1 - augm...  3.5  3.5   NaN    3.0\n",
       "4    augmentation collective une augmentation colle...  3.0  3.0   NaN    NaN\n",
       "..                                                 ...  ...  ...   ...    ...\n",
       "270  accord de negociation annuelle obligatoire 202...  NaN  NaN   NaN  270.0\n",
       "271  proces verbal d’accord négociations annuelles ...  NaN  NaN   NaN  600.0\n",
       "272  accord sur les salaires effectifs et avantages...  NaN  NaN   NaN  400.0\n",
       "273  entre maisons du monde france sas. article 2 –...  NaN  NaN   NaN  400.0\n",
       "274  entre  l’ues kiabi, représentée par, directeur...  NaN  NaN   NaN  100.0\n",
       "\n",
       "[275 rows x 5 columns]"
      ]
     },
     "execution_count": 156,
     "metadata": {},
     "output_type": "execute_result"
    }
   ],
   "source": [
    "def clean_dataset(df_file_path: str, save_to_csv=False, output_file=None):\n",
    "    df = pd.read_csv(df_file_path)\n",
    "\n",
    "    # Limit to two decimal places\n",
    "    df = df.round(2)\n",
    "\n",
    "    # Remove rows with NaN values\n",
    "    df = df.dropna(axis=0, how=\"all\")\n",
    "\n",
    "    if save_to_csv:\n",
    "        df.to_csv(output_file, index=False)\n",
    "    \n",
    "    return df\n",
    "\n",
    "clean_dataset(r\"../data/processed/final_dataset.csv\", save_to_csv=True, output_file=r\"../data/processed/final_dataset.csv\")"
   ]
  }
 ],
 "metadata": {
  "kernelspec": {
   "display_name": "venv",
   "language": "python",
   "name": "python3"
  },
  "language_info": {
   "codemirror_mode": {
    "name": "ipython",
    "version": 3
   },
   "file_extension": ".py",
   "mimetype": "text/x-python",
   "name": "python",
   "nbconvert_exporter": "python",
   "pygments_lexer": "ipython3",
   "version": "3.11.6"
  },
  "orig_nbformat": 4
 },
 "nbformat": 4,
 "nbformat_minor": 2
}
