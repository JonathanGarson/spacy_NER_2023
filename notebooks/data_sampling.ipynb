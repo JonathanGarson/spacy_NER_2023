{
 "cells": [
  {
   "attachments": {},
   "cell_type": "markdown",
   "metadata": {},
   "source": [
    "# Data Sampling"
   ]
  },
  {
   "attachments": {},
   "cell_type": "markdown",
   "metadata": {},
   "source": [
    "We will create the python code to build our data sets from which we will labelled our texts."
   ]
  },
  {
   "cell_type": "code",
   "execution_count": 2,
   "metadata": {},
   "outputs": [
    {
     "ename": "ModuleNotFoundError",
     "evalue": "No module named 'pandas'",
     "output_type": "error",
     "traceback": [
      "\u001b[1;31m---------------------------------------------------------------------------\u001b[0m",
      "\u001b[1;31mModuleNotFoundError\u001b[0m                       Traceback (most recent call last)",
      "Cell \u001b[1;32mIn[2], line 1\u001b[0m\n\u001b[1;32m----> 1\u001b[0m \u001b[39mimport\u001b[39;00m \u001b[39mpandas\u001b[39;00m \u001b[39mas\u001b[39;00m \u001b[39mpd\u001b[39;00m\n\u001b[0;32m      3\u001b[0m data_path \u001b[39m=\u001b[39m \u001b[39mr\u001b[39m\u001b[39m\"\u001b[39m\u001b[39mC:\u001b[39m\u001b[39m\\\\\u001b[39;00m\u001b[39mUsers\u001b[39m\u001b[39m\\\\\u001b[39;00m\u001b[39mgarsonj\u001b[39m\u001b[39m\\\\\u001b[39;00m\u001b[39mDesktop\u001b[39m\u001b[39m\\\\\u001b[39;00m\u001b[39mspacy_finetuning\u001b[39m\u001b[39m\\\\\u001b[39;00m\u001b[39mspacy_files\u001b[39m\u001b[39m\\\\\u001b[39;00m\u001b[39mdata\u001b[39m\u001b[39m\"\u001b[39m\n\u001b[0;32m      4\u001b[0m docx_output_path \u001b[39m=\u001b[39m \u001b[39mr\u001b[39m\u001b[39m\"\u001b[39m\u001b[39mC:\u001b[39m\u001b[39m\\\u001b[39m\u001b[39mUsers\u001b[39m\u001b[39m\\\u001b[39m\u001b[39mgarsonj\u001b[39m\u001b[39m\\\u001b[39m\u001b[39mDesktop\u001b[39m\u001b[39m\\\u001b[39m\u001b[39mspacy_finetuning\u001b[39m\u001b[39m\\\u001b[39m\u001b[39mspacy_files\u001b[39m\u001b[39m\\\u001b[39m\u001b[39mdata\u001b[39m\u001b[39m\\\u001b[39m\u001b[39mdocx\u001b[39m\u001b[39m\\\u001b[39m\u001b[39m2022_2023\u001b[39m\u001b[39m\\\u001b[39m\u001b[39m2022_2023_all\u001b[39m\u001b[39m\\\u001b[39m\u001b[39mdocx\u001b[39m\u001b[39m\"\u001b[39m\n",
      "\u001b[1;31mModuleNotFoundError\u001b[0m: No module named 'pandas'"
     ]
    }
   ],
   "source": [
    "import pandas as pd\n",
    "\n",
    "data_path = r\"C:\\\\Users\\\\garsonj\\\\Desktop\\\\spacy_finetuning\\\\spacy_files\\\\data\"\n",
    "docx_output_path = r\"C:\\Users\\garsonj\\Desktop\\spacy_finetuning\\spacy_files\\data\\docx\\2022_2023\\2022_2023_all\\docx\"\n",
    "\n",
    "# Read in the data\n",
    "df = pd.read_excel(f'{data_path}\\\\training_xlsx\\\\data2022-2023.xlsx')"
   ]
  },
  {
   "cell_type": "code",
   "execution_count": null,
   "metadata": {},
   "outputs": [],
   "source": [
    "# Drop the columns we don't need\n",
    "df.columns\n",
    "df_link = df[[\n",
    "    #'UrlLegifrance', \n",
    "    # 'Entreprise', \n",
    "    # 'Siret', \n",
    "    # 'Secteur', \n",
    "    # 'Nature', \n",
    "    # 'Titre',\n",
    "    # 'Naf732', \n",
    "    # 'Date Texte', \n",
    "    # 'Date Maj', \n",
    "    # 'Date Dépot', \n",
    "    # 'Date diffusion',\n",
    "    # 'Date fin', \n",
    "    # 'LesSyndicats', \n",
    "    # 'LesThemes', \n",
    "    # 'type',\n",
    "    # 'Tranche Effectif(Base siren)', \n",
    "    'Fichier', \n",
    "    # 'ID'\n",
    "    ]].copy()\n",
    "\n",
    "df_link.head()"
   ]
  },
  {
   "cell_type": "code",
   "execution_count": null,
   "metadata": {},
   "outputs": [],
   "source": [
    "#We make a list of the proapp names\n",
    "list = df_link['Fichier'].tolist()"
   ]
  },
  {
   "cell_type": "code",
   "execution_count": null,
   "metadata": {},
   "outputs": [],
   "source": [
    "# We shuffle the list\n",
    "\n",
    "import random\n",
    "\n",
    "def shuffle_list(list):\n",
    "    random.shuffle(list)\n",
    "    return list\n",
    "\n",
    "shuffled_list = shuffle_list(list)"
   ]
  },
  {
   "cell_type": "code",
   "execution_count": null,
   "metadata": {},
   "outputs": [],
   "source": [
    "def create_subsets(list, start, step_size):\n",
    "    subsets = []\n",
    "    i = start\n",
    "    while i < len(list):\n",
    "        end = min(i + step_size, len(list))\n",
    "        subset = list[i:end]\n",
    "        subsets.append(subset)\n",
    "        i += step_size\n",
    "    return subsets\n",
    "\n",
    "# Example usage:\n",
    "my_list = list  # Replace this with your list of thousands of items\n",
    "start_index = 0\n",
    "step_size = 500\n",
    "subsets = create_subsets(my_list, start_index, step_size)"
   ]
  },
  {
   "attachments": {},
   "cell_type": "markdown",
   "metadata": {},
   "source": [
    "Now we can create our txt file with the data file "
   ]
  },
  {
   "cell_type": "code",
   "execution_count": null,
   "metadata": {},
   "outputs": [],
   "source": [
    "def save_subsets_to_txt(subsets, path):\n",
    "    for i, subset in enumerate(subsets, start=1):\n",
    "        filename = f\"{path}\\Liste{i}.txt\"\n",
    "        with open(filename, \"w\") as file:\n",
    "            for item in subset:\n",
    "                file.write(str(item) + \"\\n\")\n",
    "\n",
    "save_subsets_to_txt(subsets, docx_output_path)"
   ]
  },
  {
   "cell_type": "code",
   "execution_count": null,
   "metadata": {},
   "outputs": [],
   "source": [
    "import os\n",
    "\n",
    "for i, subset in enumerate(subsets, start=1):\n",
    "    subset_directory = f\"C:\\\\Users\\\\garsonj\\\\Desktop\\\\spacy_finetuning\\\\spacy_files\\\\data\\\\docx\\\\2022_2023\\\\2022_2023_all\\\\Subset_{i}\"\n",
    "    txt_file = rf\"C:\\Users\\garsonj\\Desktop\\spacy_finetuning\\spacy_files\\data\\docx\\2022_2023\\2022_2023_all\\docx\\\\Liste{i}.txt\"\n",
    "    \n",
    "    # Remove existing directory and its contents (if it exists)\n",
    "    if os.path.exists(subset_directory):\n",
    "        os.system(f\"rmdir /s /q {subset_directory}\")\n",
    "\n",
    "    # Create a new directory\n",
    "    os.mkdir(subset_directory)\n",
    "\n",
    "    # Move the text file to the new directory\n",
    "    os.rename(txt_file, os.path.join(subset_directory, f\"Liste {i}.txt\"))"
   ]
  },
  {
   "cell_type": "code",
   "execution_count": null,
   "metadata": {},
   "outputs": [],
   "source": [
    "# Now we make a copy of the Recup_FichiersAccordes.exe in all the directories\n",
    "\n",
    "import shutil\n",
    "\n",
    "for i, subset in enumerate(subsets, start=1):\n",
    "    subset_directory = f\"C:\\\\Users\\\\garsonj\\\\Desktop\\\\spacy_finetuning\\\\spacy_files\\\\data\\\\docx\\\\2022_2023\\\\2022_2023_all\\\\Subset_{i}\"\n",
    "    shutil.copy(r\"C:\\Users\\garsonj\\Desktop\\spacy_finetuning\\spacy_files\\data\\docx\\Recup_FichersAccord.exe\", subset_directory)"
   ]
  },
  {
   "cell_type": "code",
   "execution_count": null,
   "metadata": {},
   "outputs": [],
   "source": [
    "# We rename the Listes in the directories to Liste.txt\n",
    "\n",
    "import os\n",
    "\n",
    "# Specify the root directory where your subfolders are located\n",
    "root_directory = r\"C:\\Users\\garsonj\\Desktop\\spacy_finetuning\\spacy_files\\data\\docx\\2022_2023\\2022_2023_all\"\n",
    "\n",
    "for subdir, _, files in os.walk(root_directory):\n",
    "    for file in files:\n",
    "        if file.startswith(\"List\") and file.endswith(\".txt\"):\n",
    "            # Construct the source and destination file paths\n",
    "            source_path = os.path.join(subdir, file)\n",
    "            destination_path = os.path.join(subdir, \"Liste.txt\")\n",
    "\n",
    "            # Rename the file to \"Liste.txt\"\n",
    "            os.rename(source_path, destination_path)"
   ]
  },
  {
   "cell_type": "code",
   "execution_count": null,
   "metadata": {},
   "outputs": [],
   "source": [
    "import os\n",
    "\n",
    "# Define the root path\n",
    "root_path = r\"C:\\Users\\garsonj\\Desktop\\spacy_finetuning\\spacy_files\\data\\docx\\2022_2023\\2022_2023_all\"\n",
    "\n",
    "# Iterate over subdirectories\n",
    "for directory in os.listdir(root_path):\n",
    "    # Check if it's a directory\n",
    "    if os.path.isdir(os.path.join(root_path, directory)):\n",
    "        # Create the \"text\" subfolder within each subdirectory\n",
    "        text_subfolder = os.path.join(root_path, directory, \"text\")\n",
    "        os.makedirs(text_subfolder, exist_ok=True)\n",
    "        word_subfolder = os.path.join(root_path, directory, \"docx\")\n",
    "        os.makedirs(word_subfolder, exist_ok=True)\n",
    "        odt_subfolder = os.path.join(root_path, directory, \"odt\")\n",
    "        os.makedirs(odt_subfolder, exist_ok=True)\n",
    "        print(f\"Created 'text' subfolder in '{directory}'\")"
   ]
  },
  {
   "cell_type": "code",
   "execution_count": null,
   "metadata": {},
   "outputs": [],
   "source": [
    "#algorythm to store the files in the right folders\n",
    "\n",
    "import os\n",
    "import shutil\n",
    "\n",
    "# Define the root path\n",
    "root_path = r\"C:\\Users\\garsonj\\Desktop\\spacy_finetuning\\spacy_files\\data\\docx\\2022_2023\\2022_2023_all\\Subset_1\"\n",
    "\n",
    "for item in os.listdir(root_path):\n",
    "    item_path = os.path.join(root_path, item)\n",
    "\n",
    "    # Check if it's a file\n",
    "    if os.path.isfile(item_path):\n",
    "        if item.endswith(\".txt\"):\n",
    "            destination_folder = os.path.join(root_path, \"text\")\n",
    "        elif item.endswith(\".docx\"):\n",
    "            destination_folder = os.path.join(root_path, \"docx\")\n",
    "        elif item.endswith(\".odt\"):\n",
    "            destination_folder = os.path.join(root_path, \"odt\")\n",
    "        else:\n",
    "            continue  # Skip files with unsupported extensions\n",
    "\n",
    "        # Move the file to the appropriate subfolder\n",
    "        shutil.move(item_path, destination_folder)"
   ]
  },
  {
   "cell_type": "code",
   "execution_count": null,
   "metadata": {},
   "outputs": [],
   "source": [
    "# import os\n",
    "\n",
    "# # Specify the root directory where your subfolders are located\n",
    "# root_directory = r\"C:\\Users\\garsonj\\Desktop\\spacy_finetuning\\spacy_files\\docx\\2017_2021\"\n",
    "\n",
    "# for subdir, _, files in os.walk(root_directory):\n",
    "#     for file in files:\n",
    "#         if file.startswith(\"List\") and file.endswith(\".txt\"):\n",
    "#             # Construct the source and destination file paths\n",
    "#             source_path = os.path.join(subdir, file)\n",
    "#             destination_path = os.path.join(subdir, \"Liste.txt\")\n",
    "\n",
    "#             # Rename the file to \"Liste.txt\"\n",
    "#             os.rename(source_path, destination_path)"
   ]
  }
 ],
 "metadata": {
  "kernelspec": {
   "display_name": "spacy_finetuning",
   "language": "python",
   "name": "python3"
  },
  "language_info": {
   "codemirror_mode": {
    "name": "ipython",
    "version": 3
   },
   "file_extension": ".py",
   "mimetype": "text/x-python",
   "name": "python",
   "nbconvert_exporter": "python",
   "pygments_lexer": "ipython3",
   "version": "3.11.6"
  },
  "orig_nbformat": 4
 },
 "nbformat": 4,
 "nbformat_minor": 2
}
