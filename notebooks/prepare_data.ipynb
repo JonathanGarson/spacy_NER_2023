{
 "cells": [
  {
   "attachments": {},
   "cell_type": "markdown",
   "metadata": {},
   "source": [
    "# Prepare the datasets"
   ]
  },
  {
   "attachments": {},
   "cell_type": "markdown",
   "metadata": {},
   "source": [
    "## data449_text.csv"
   ]
  },
  {
   "attachments": {},
   "cell_type": "markdown",
   "metadata": {},
   "source": [
    "We use the data set data449_cats which is directly extracted from Label Studio with the csv format. It is made out of the labellisation of data. Our objective is to reduce it to two columns with the text and 0 labels."
   ]
  },
  {
   "cell_type": "code",
   "execution_count": null,
   "metadata": {},
   "outputs": [],
   "source": [
    "import pandas as pd \n",
    "\n",
    "# Read in the data\n",
    "df = pd.read_csv('../data/raw/data449_cats.csv')\n",
    "\n",
    "# Drop columns\n",
    "df = df[[\"text\"]].copy()\n",
    "\n",
    "# Save to csv\n",
    "df.to_csv('../data/processed/data449_text.csv', index=False)"
   ]
  },
  {
   "attachments": {},
   "cell_type": "markdown",
   "metadata": {},
   "source": [
    "## full_data_link_legifrance_id.xlsx"
   ]
  },
  {
   "cell_type": "code",
   "execution_count": null,
   "metadata": {},
   "outputs": [],
   "source": [
    "import pandas as pd\n",
    "\n",
    "df = pd.read_excel(r\"../data/raw/full_data_link_legifrance.xlsx\")\n",
    "df = df[[\"UrlLegifrance\", \"Entreprise\",\"Siret\", \"Naf732\", \"Date Texte\",\"Fichier\"]].copy()\n",
    "df[\"code\"] = df[\"Fichier\"].str.slice(101,113)\n",
    "df.to_csv('../data/processed/full_data_link_legifrance_id.csv', index=False)\n",
    "df.to_excel('../data/processed/full_data_link_legifrance_id.xlsx', index=False)"
   ]
  },
  {
   "attachments": {},
   "cell_type": "markdown",
   "metadata": {},
   "source": [
    "## long_short_texts.csv"
   ]
  },
  {
   "cell_type": "code",
   "execution_count": null,
   "metadata": {},
   "outputs": [],
   "source": [
    "import pandas as pd\n",
    "import glob"
   ]
  },
  {
   "attachments": {},
   "cell_type": "markdown",
   "metadata": {},
   "source": [
    "We import the shorten texts"
   ]
  },
  {
   "cell_type": "code",
   "execution_count": null,
   "metadata": {},
   "outputs": [],
   "source": [
    "# Read in the data\n",
    "df_short_text = pd.read_excel(r'../data/raw/short_texts.xlsx').loc[0:724, [\"code\",\"entreprise\",\"text\"]]\n",
    "df_short_text[\"length\"] = df_short_text[\"text\"].str.len()\n",
    "\n",
    "mask = df_short_text[\"length\"] > 2800\n",
    "\n",
    "if mask.any():\n",
    "    # Filter and keep only rows with text length less than or equal to 2800 characters\n",
    "    df_short_text = df_short_text[~mask]\n",
    "\n",
    "df_short_text = df_short_text[[\"code\",\"entreprise\",\"text\"]].copy()"
   ]
  },
  {
   "cell_type": "code",
   "execution_count": null,
   "metadata": {},
   "outputs": [],
   "source": [
    "df_short_text.shape"
   ]
  },
  {
   "attachments": {},
   "cell_type": "markdown",
   "metadata": {},
   "source": [
    "We build the long text database"
   ]
  },
  {
   "cell_type": "code",
   "execution_count": null,
   "metadata": {},
   "outputs": [],
   "source": [
    "df_id = pd.read_csv(r'../data/processed/full_data_link_legifrance_id.csv')\n",
    "\n",
    "df_text_link= pd.merge(df_id, df_short_text, on=\"code\", how=\"inner\")"
   ]
  },
  {
   "cell_type": "code",
   "execution_count": null,
   "metadata": {},
   "outputs": [],
   "source": [
    "df_text_link = df_text_link[[\"code\", \"entreprise\", \"text\", \"Fichier\"]].copy()\n",
    "df_text_link = df_text_link.rename(columns={\"Fichier\":\"url_proapp\"})\n",
    "df_text_link = df_text_link.rename(columns={\"text\":\"text_short\"})"
   ]
  },
  {
   "cell_type": "code",
   "execution_count": null,
   "metadata": {},
   "outputs": [],
   "source": [
    "# We write the list of proapp links and download them (proapp are directly connected to local server, you should use the legifrance url and download.py code instead)\n",
    "\n",
    "list_proapp = df_text_link[\"url_proapp\"].tolist()\n",
    "\n",
    "with open(\"../data/text/docx/Liste.txt\", \"w\", encoding=\"utf-8\") as f:\n",
    "    for item in list_proapp:\n",
    "        f.write(\"%s\\n\" % item)\n",
    "\n",
    "# I used the exe file not furnished here to download the files"
   ]
  },
  {
   "cell_type": "code",
   "execution_count": null,
   "metadata": {},
   "outputs": [],
   "source": [
    "# We convert all the files to txt and clean them\n",
    "\n",
    "!\"../data/text/docx/Recup_FichersAccord.exe\"\n",
    "# !python.exe \"../src/download.py\"\n",
    "!python.exe \"../src/convert_to_txt.py\"\n",
    "!python.exe \"../src/clean_txt.py\""
   ]
  },
  {
   "cell_type": "code",
   "execution_count": null,
   "metadata": {},
   "outputs": [],
   "source": [
    "# Now we can store the text in a csv file and match them by their code\n",
    "\n",
    "texts = glob.glob(\"../data/text/txt/*.txt\")\n",
    "\n",
    "lis_of_text = []\n",
    "code = []\n",
    "\n",
    "for text in texts:\n",
    "    with open(text, \"r\", encoding=\"utf-8\") as f:\n",
    "        lis_of_text.append(f.read())\n",
    "        code.append(text[17:29])\n",
    "\n",
    "df_long_text = pd.DataFrame({\"code\":code, \"text\":lis_of_text})"
   ]
  },
  {
   "cell_type": "code",
   "execution_count": null,
   "metadata": {},
   "outputs": [],
   "source": [
    "# We merge the two dataframes\n",
    "\n",
    "df_text = pd.merge(df_short_text, df_long_text, on=\"code\", how=\"inner\", suffixes=(\"_short\", \"_long\"))\n",
    "df_text[\"diff_length\"] = df_text[\"text_long\"].str.len() - df_text[\"text_short\"].str.len()\n",
    "df_text.to_csv('../data/processed/short_long_texts.csv', index=False)"
   ]
  }
 ],
 "metadata": {
  "kernelspec": {
   "display_name": "venv",
   "language": "python",
   "name": "python3"
  },
  "language_info": {
   "codemirror_mode": {
    "name": "ipython",
    "version": 3
   },
   "file_extension": ".py",
   "mimetype": "text/x-python",
   "name": "python",
   "nbconvert_exporter": "python",
   "pygments_lexer": "ipython3",
   "version": "3.11.6"
  },
  "orig_nbformat": 4
 },
 "nbformat": 4,
 "nbformat_minor": 2
}
