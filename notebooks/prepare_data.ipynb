{
 "cells": [
  {
   "attachments": {},
   "cell_type": "markdown",
   "metadata": {},
   "source": [
    "# Prepare the datasets"
   ]
  },
  {
   "attachments": {},
   "cell_type": "markdown",
   "metadata": {},
   "source": [
    "## data449_text.csv"
   ]
  },
  {
   "attachments": {},
   "cell_type": "markdown",
   "metadata": {},
   "source": [
    "We use the data set data449_cats which is directly extracted from Label Studio with the csv format. It is made out of the labellisation of data. Our objective is to reduce it to two columns with the text and 0 labels."
   ]
  },
  {
   "cell_type": "code",
   "execution_count": 11,
   "metadata": {},
   "outputs": [],
   "source": [
    "import pandas as pd \n",
    "\n",
    "# Read in the data\n",
    "df = pd.read_csv('../data/raw/data449_cats.csv')\n",
    "\n",
    "# Drop columns\n",
    "df = df[[\"text\"]].copy()\n",
    "\n",
    "# Save to csv\n",
    "df.to_csv('../data/processed/data449_text.csv', index=False)"
   ]
  },
  {
   "attachments": {},
   "cell_type": "markdown",
   "metadata": {},
   "source": [
    "## long_short_texts.csv"
   ]
  },
  {
   "cell_type": "code",
   "execution_count": 51,
   "metadata": {},
   "outputs": [],
   "source": [
    "import pandas as pd\n",
    "import os\n",
    "import glob"
   ]
  },
  {
   "attachments": {},
   "cell_type": "markdown",
   "metadata": {},
   "source": [
    "We import the shorten texts"
   ]
  },
  {
   "cell_type": "code",
   "execution_count": 53,
   "metadata": {},
   "outputs": [],
   "source": [
    "# Read in the data\n",
    "df_short_text = pd.read_excel(r'../data/raw/short_texts.xlsx').loc[0:495, [\"code\",\"entreprise\",\"text\"]]"
   ]
  },
  {
   "attachments": {},
   "cell_type": "markdown",
   "metadata": {},
   "source": [
    "We build the long text database"
   ]
  },
  {
   "cell_type": "code",
   "execution_count": 59,
   "metadata": {},
   "outputs": [],
   "source": [
    "# Build a database of long text\n",
    "df_long_text = pd.DataFrame(columns=['code','text'])\n",
    "\n",
    "# Loop through the long text\n",
    "texts = glob.glob(r\"../data/text/txt/*.txt\")\n",
    "\n",
    "list_of_codes = []\n",
    "list_of_texts = []\n",
    "\n",
    "for text in texts:\n",
    "    filename = os.path.basename(text).split('.')[0][0:12]\n",
    "    list_of_codes.append(filename)\n",
    "    with open(text, 'r', encoding=\"utf-8\") as f:\n",
    "        list_of_texts.append(f.read())\n",
    "\n",
    "# Create a new DataFrame\n",
    "df_new_data = pd.DataFrame({'code': list_of_codes, 'text': list_of_texts})\n",
    "\n",
    "# Reset the columns of df_new_data to only include 'code' and 'text'\n",
    "df_new_data = df_new_data[['code', 'text']]\n",
    "\n",
    "# Concatenate the new DataFrame with df_long_text\n",
    "df_long_text = pd.concat([df_long_text, df_new_data], axis=0, ignore_index=True)"
   ]
  },
  {
   "attachments": {},
   "cell_type": "markdown",
   "metadata": {},
   "source": [
    "Retrieve the name of the company"
   ]
  },
  {
   "cell_type": "code",
   "execution_count": 103,
   "metadata": {},
   "outputs": [],
   "source": [
    "# retrieve the name of compagnies\n",
    "df_entreprise = pd.read_excel(r\"../data/raw/full_data_link_legifrance.xlsx\")\n",
    "df_entreprise = df_entreprise[['Fichier', 'Entreprise']].copy()\n",
    "# df_entreprise = df_entreprise.rename(columns={'Entreprise': 'entreprise'})\n",
    "df_entreprise = df_entreprise.rename(columns={'Fichier': 'code'})\n",
    "\n",
    "df_entreprise['code'] = df_entreprise['code'].str.slice(101, 113)\n",
    "\n",
    "# Merge the two dataframes\n",
    "df_long_text = pd.merge(df_long_text, df_entreprise, how='left', left_on='code', right_on='code')\n",
    "\n",
    "df_long_text = df_long_text[['code', 'entreprise', 'text']]"
   ]
  },
  {
   "attachments": {},
   "cell_type": "markdown",
   "metadata": {},
   "source": [
    "Merging the datasets"
   ]
  },
  {
   "cell_type": "code",
   "execution_count": 104,
   "metadata": {},
   "outputs": [],
   "source": [
    "# We merge the datasets\n",
    "df_text = pd.merge(df_short_text, df_long_text, how='inner', suffixes=('_short', '_long'), on='code')"
   ]
  },
  {
   "cell_type": "code",
   "execution_count": 111,
   "metadata": {},
   "outputs": [],
   "source": [
    "df_text = df_text[['code', 'entreprise_short', 'text_short', 'text_long']].copy()\n",
    "df_text = df_text.rename(columns={'entreprise_short': 'entreprise'})"
   ]
  },
  {
   "cell_type": "code",
   "execution_count": 112,
   "metadata": {},
   "outputs": [],
   "source": [
    "df_text.head()\n",
    "df_text.to_csv('../data/processed/short_long_texts.csv', index=False)"
   ]
  }
 ],
 "metadata": {
  "kernelspec": {
   "display_name": "venv",
   "language": "python",
   "name": "python3"
  },
  "language_info": {
   "codemirror_mode": {
    "name": "ipython",
    "version": 3
   },
   "file_extension": ".py",
   "mimetype": "text/x-python",
   "name": "python",
   "nbconvert_exporter": "python",
   "pygments_lexer": "ipython3",
   "version": "3.11.6"
  },
  "orig_nbformat": 4
 },
 "nbformat": 4,
 "nbformat_minor": 2
}
