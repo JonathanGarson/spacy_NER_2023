{
 "cells": [
  {
   "attachments": {},
   "cell_type": "markdown",
   "metadata": {},
   "source": [
    "# Prepare the datasets"
   ]
  },
  {
   "attachments": {},
   "cell_type": "markdown",
   "metadata": {},
   "source": [
    "## data449_text.csv"
   ]
  },
  {
   "attachments": {},
   "cell_type": "markdown",
   "metadata": {},
   "source": [
    "We use the data set data449_cats which is directly extracted from Label Studio with the csv format. It is made out of the labellisation of data. Our objective is to reduce it to two columns with the text and 0 labels."
   ]
  },
  {
   "cell_type": "code",
   "execution_count": 11,
   "metadata": {},
   "outputs": [],
   "source": [
    "import pandas as pd \n",
    "\n",
    "# Read in the data\n",
    "df = pd.read_csv('../data/raw/data449_cats.csv')\n",
    "\n",
    "# Drop columns\n",
    "df = df[[\"text\"]].copy()\n",
    "\n",
    "# Save to csv\n",
    "df.to_csv('../data/processed/data449_text.csv', index=False)"
   ]
  },
  {
   "attachments": {},
   "cell_type": "markdown",
   "metadata": {},
   "source": [
    "## full_data_link_legifrance_id.xlsx"
   ]
  },
  {
   "cell_type": "code",
   "execution_count": 8,
   "metadata": {},
   "outputs": [],
   "source": [
    "import pandas as pd\n",
    "\n",
    "df = pd.read_excel(r\"../data/raw/full_data_link_legifrance.xlsx\")\n",
    "df = df[[\"UrlLegifrance\", \"Entreprise\",\"Siret\", \"Naf732\", \"Date Texte\",\"Fichier\"]].copy()\n",
    "df[\"code\"] = df[\"Fichier\"].str.slice(101,113)\n",
    "df.to_csv('../data/processed/full_data_link_legifrance_id.csv', index=False)\n",
    "df.to_excel('../data/processed/full_data_link_legifrance_id.xlsx', index=False)"
   ]
  },
  {
   "attachments": {},
   "cell_type": "markdown",
   "metadata": {},
   "source": [
    "## long_short_texts.csv"
   ]
  },
  {
   "cell_type": "code",
   "execution_count": 9,
   "metadata": {},
   "outputs": [],
   "source": [
    "import pandas as pd\n",
    "import os\n",
    "import glob"
   ]
  },
  {
   "attachments": {},
   "cell_type": "markdown",
   "metadata": {},
   "source": [
    "We import the shorten texts"
   ]
  },
  {
   "cell_type": "code",
   "execution_count": 10,
   "metadata": {},
   "outputs": [],
   "source": [
    "# Read in the data\n",
    "df_short_text = pd.read_excel(r'../data/raw/short_texts.xlsx').loc[0:495, [\"code\",\"entreprise\",\"text\"]]"
   ]
  },
  {
   "cell_type": "code",
   "execution_count": 11,
   "metadata": {},
   "outputs": [
    {
     "data": {
      "text/html": [
       "<div>\n",
       "<style scoped>\n",
       "    .dataframe tbody tr th:only-of-type {\n",
       "        vertical-align: middle;\n",
       "    }\n",
       "\n",
       "    .dataframe tbody tr th {\n",
       "        vertical-align: top;\n",
       "    }\n",
       "\n",
       "    .dataframe thead th {\n",
       "        text-align: right;\n",
       "    }\n",
       "</style>\n",
       "<table border=\"1\" class=\"dataframe\">\n",
       "  <thead>\n",
       "    <tr style=\"text-align: right;\">\n",
       "      <th></th>\n",
       "      <th>code</th>\n",
       "      <th>entreprise</th>\n",
       "      <th>text</th>\n",
       "    </tr>\n",
       "  </thead>\n",
       "  <tbody>\n",
       "    <tr>\n",
       "      <th>0</th>\n",
       "      <td>T03022004649</td>\n",
       "      <td>ROYAL CANIN SAS</td>\n",
       "      <td>négociation annuelle obligatoire 2022-23. les ...</td>\n",
       "    </tr>\n",
       "    <tr>\n",
       "      <th>1</th>\n",
       "      <td>T02622004554</td>\n",
       "      <td>BOIRON FRERES</td>\n",
       "      <td>accord collectif d’entreprise à l’issue de la...</td>\n",
       "    </tr>\n",
       "    <tr>\n",
       "      <th>2</th>\n",
       "      <td>T06222008590</td>\n",
       "      <td>UNITED PETFOOD FRANCE-UPF</td>\n",
       "      <td>négociations annuelles obligatoires 2022  les ...</td>\n",
       "    </tr>\n",
       "    <tr>\n",
       "      <th>3</th>\n",
       "      <td>T03322011613</td>\n",
       "      <td>LDC AQUITAINE</td>\n",
       "      <td>la direction, a échangé avec les organisations...</td>\n",
       "    </tr>\n",
       "    <tr>\n",
       "      <th>4</th>\n",
       "      <td>T59L22018637</td>\n",
       "      <td>COCA COLA PRODUCTION</td>\n",
       "      <td>accord relatif à la négociation annuelle oblig...</td>\n",
       "    </tr>\n",
       "  </tbody>\n",
       "</table>\n",
       "</div>"
      ],
      "text/plain": [
       "           code                 entreprise  \\\n",
       "0  T03022004649            ROYAL CANIN SAS   \n",
       "1  T02622004554              BOIRON FRERES   \n",
       "2  T06222008590  UNITED PETFOOD FRANCE-UPF   \n",
       "3  T03322011613              LDC AQUITAINE   \n",
       "4  T59L22018637       COCA COLA PRODUCTION   \n",
       "\n",
       "                                                text  \n",
       "0  négociation annuelle obligatoire 2022-23. les ...  \n",
       "1   accord collectif d’entreprise à l’issue de la...  \n",
       "2  négociations annuelles obligatoires 2022  les ...  \n",
       "3  la direction, a échangé avec les organisations...  \n",
       "4  accord relatif à la négociation annuelle oblig...  "
      ]
     },
     "execution_count": 11,
     "metadata": {},
     "output_type": "execute_result"
    }
   ],
   "source": [
    "df_short_text.head()"
   ]
  },
  {
   "attachments": {},
   "cell_type": "markdown",
   "metadata": {},
   "source": [
    "We build the long text database"
   ]
  },
  {
   "cell_type": "code",
   "execution_count": 35,
   "metadata": {},
   "outputs": [],
   "source": [
    "df_id = pd.read_csv(r'../data/processed/full_data_link_legifrance_id.csv')\n",
    "\n",
    "df_text_link= pd.merge(df_id, df_short_text, on=\"code\", how=\"inner\")"
   ]
  },
  {
   "cell_type": "code",
   "execution_count": 36,
   "metadata": {},
   "outputs": [],
   "source": [
    "df_text_link = df_text_link[[\"code\", \"entreprise\", \"text\", \"Fichier\"]].copy()\n",
    "df_text_link = df_text_link.rename(columns={\"Fichier\":\"url_proapp\"})\n",
    "df_text_link = df_text_link.rename(columns={\"text\":\"text_short\"})"
   ]
  },
  {
   "cell_type": "code",
   "execution_count": 37,
   "metadata": {},
   "outputs": [],
   "source": [
    "# We write the list of proapp links and download them (proapp are directly connected to local server, you should use the legifrance url and download.py code instead)\n",
    "\n",
    "list_proapp = df_text_link[\"url_proapp\"].tolist()\n",
    "\n",
    "with open(\"../data/text/docx/Liste.txt\", \"w\", encoding=\"utf-8\") as f:\n",
    "    for item in list_proapp:\n",
    "        f.write(\"%s\\n\" % item)\n",
    "\n",
    "# I used the exe file not furnished here to download the files"
   ]
  },
  {
   "cell_type": "code",
   "execution_count": null,
   "metadata": {},
   "outputs": [],
   "source": [
    "# We convert all the files to txt and clean them\n",
    "\n",
    "!python.exe \"../src/convert_to_txt.py\"\n",
    "!python.exe \"../src/clean_txt.py\""
   ]
  },
  {
   "cell_type": "code",
   "execution_count": 38,
   "metadata": {},
   "outputs": [
    {
     "data": {
      "text/html": [
       "<div>\n",
       "<style scoped>\n",
       "    .dataframe tbody tr th:only-of-type {\n",
       "        vertical-align: middle;\n",
       "    }\n",
       "\n",
       "    .dataframe tbody tr th {\n",
       "        vertical-align: top;\n",
       "    }\n",
       "\n",
       "    .dataframe thead th {\n",
       "        text-align: right;\n",
       "    }\n",
       "</style>\n",
       "<table border=\"1\" class=\"dataframe\">\n",
       "  <thead>\n",
       "    <tr style=\"text-align: right;\">\n",
       "      <th></th>\n",
       "      <th>code</th>\n",
       "      <th>text</th>\n",
       "    </tr>\n",
       "  </thead>\n",
       "  <tbody>\n",
       "    <tr>\n",
       "      <th>0</th>\n",
       "      <td>A59V17002488</td>\n",
       "      <td>negociation annuelle obligatoire 2017  la n...</td>\n",
       "    </tr>\n",
       "    <tr>\n",
       "      <th>1</th>\n",
       "      <td>T00122004154</td>\n",
       "      <td>proces verbal d’accord negociation annuell...</td>\n",
       "    </tr>\n",
       "    <tr>\n",
       "      <th>2</th>\n",
       "      <td>T00122004256</td>\n",
       "      <td>accord annuel d’entreprise mars 2022  entre ...</td>\n",
       "    </tr>\n",
       "    <tr>\n",
       "      <th>3</th>\n",
       "      <td>T00122004270</td>\n",
       "      <td>negociation annuelle 2022  protocole d’acco...</td>\n",
       "    </tr>\n",
       "    <tr>\n",
       "      <th>4</th>\n",
       "      <td>T00122004501</td>\n",
       "      <td>negociation annuelle obligatoire 2022 proces v...</td>\n",
       "    </tr>\n",
       "  </tbody>\n",
       "</table>\n",
       "</div>"
      ],
      "text/plain": [
       "           code                                               text\n",
       "0  A59V17002488     negociation annuelle obligatoire 2017  la n...\n",
       "1  T00122004154      proces verbal d’accord negociation annuell...\n",
       "2  T00122004256    accord annuel d’entreprise mars 2022  entre ...\n",
       "3  T00122004270     negociation annuelle 2022  protocole d’acco...\n",
       "4  T00122004501  negociation annuelle obligatoire 2022 proces v..."
      ]
     },
     "execution_count": 38,
     "metadata": {},
     "output_type": "execute_result"
    }
   ],
   "source": [
    "# Now we can store the text in a csv file and match them by their code\n",
    "\n",
    "texts = glob.glob(\"../data/text/txt/*.txt\")\n",
    "\n",
    "lis_of_text = []\n",
    "code = []\n",
    "\n",
    "for text in texts:\n",
    "    with open(text, \"r\", encoding=\"utf-8\") as f:\n",
    "        lis_of_text.append(f.read())\n",
    "        code.append(text[17:29])\n",
    "\n",
    "df_long_text = pd.DataFrame({\"code\":code, \"text\":lis_of_text})"
   ]
  },
  {
   "cell_type": "code",
   "execution_count": 44,
   "metadata": {},
   "outputs": [],
   "source": [
    "# We merge the two dataframes\n",
    "\n",
    "df_text = pd.merge(df_short_text, df_long_text, on=\"code\", how=\"inner\", suffixes=(\"_short\", \"_long\"))\n",
    "df_text.to_csv('../data/processed/short_long_texts.csv', index=False)"
   ]
  }
 ],
 "metadata": {
  "kernelspec": {
   "display_name": "venv",
   "language": "python",
   "name": "python3"
  },
  "language_info": {
   "codemirror_mode": {
    "name": "ipython",
    "version": 3
   },
   "file_extension": ".py",
   "mimetype": "text/x-python",
   "name": "python",
   "nbconvert_exporter": "python",
   "pygments_lexer": "ipython3",
   "version": "3.11.6"
  },
  "orig_nbformat": 4
 },
 "nbformat": 4,
 "nbformat_minor": 2
}
